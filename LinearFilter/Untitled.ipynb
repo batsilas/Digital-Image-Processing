{
 "cells": [
  {
   "cell_type": "code",
   "execution_count": 4,
   "metadata": {},
   "outputs": [
    {
     "name": "stdout",
     "output_type": "stream",
     "text": [
      "Give me the size of filter array:(Press (3) for 3x3 or (5) for 5x5) 3\n",
      "\n",
      "An image filtered by 3x3 linear filter has saved!\n"
     ]
    }
   ],
   "source": [
    "import numpy as np\n",
    "import matplotlib.image as mpimg\n",
    "import matplotlib.pyplot as plt\n",
    "import scipy.misc\n",
    "import math\n",
    "from PIL import Image\n",
    "A = np.array(Image.open('trikoupi6.png'))\n",
    "C = np.zeros(shape=(1627,1035))\n",
    "C1 = np.zeros(shape=(1631,1039))\n",
    "nrows,ncols = A.shape \n",
    "x1 = input(\"Give me the size of filter array:(Press (3) for 3x3 or (5) for 5x5) \")\n",
    "\n",
    "\n",
    "if (x1 is '3'):\n",
    "    \n",
    "    x=1/9\n",
    "    C[2:A.shape[0]+2,2:A.shape[1]+2] = A\n",
    "    for i in range(1,nrows-1):\n",
    "        for j in range(1,ncols-1):\n",
    "            C[i][j] = C[i][j]*x+C[i-1][j-1]*x + C[i-1][j]*x + C[i][j-1]*x+C[i+1][j-1]*x+C[i-1][j]*x+C[i+1][j]*x+C[i+1][j+1]*x+C[i][j+1]*x\n",
    "\n",
    "    scipy.misc.imsave('linearFilter1.png',C)\n",
    "    print(\"\\nAn image filtered by 3x3 linear filter has saved!\")\n",
    "else:\n",
    "    print(\"\\nAn image filtered by 5x5 linear filter has saved!\")\n",
    "    x=1/25\n",
    "    C1[4:A.shape[0]+4,4:A.shape[1]+4] = A\n",
    "    for i in range(2,nrows-2):\n",
    "        for j in range(2,ncols-2):\n",
    "            C1[i][j] = C1[i-2][j-2]*x + C1[i-2][j-1]*x + C1[i-2][j]*x + C1[i-2][j+1]*x + C1[i-2][j+2]*x + \\\n",
    "            C1[i-1][j-2]*x + C1[i-1][j-1]*x + C1[i-1][j]*x + C1[i-1][j+1]*x + C1[i-1][j+2]*x + \\\n",
    "            C1[i][j-2]*x + C1[i][j-1]*x + C1[i][j]*x + C1[i][j+1]*x + C1[i][j+2]*x + \\\n",
    "            C1[i+1][j-2]*x + C1[i+1][j-1]*x + C1[i+1][j]*x + C1[i+1][j+1]*x + C1[i+1][j+2]*x + \\\n",
    "            C1[i+2][j-2]*x + C1[i+2][j-1]*x + C1[i+2][j]*x + C1[i+2][j+1]*x + C1[i+2][j+2]*x\n",
    " \n",
    "    scipy.misc.imsave('linearFilter2.png',C1)\n",
    "    print(\"\\nAn image filtered by 3x3 linear filter has saved!\")\n"
   ]
  },
  {
   "cell_type": "code",
   "execution_count": null,
   "metadata": {},
   "outputs": [],
   "source": []
  },
  {
   "cell_type": "code",
   "execution_count": null,
   "metadata": {},
   "outputs": [],
   "source": []
  }
 ],
 "metadata": {
  "kernelspec": {
   "display_name": "Python 3",
   "language": "python",
   "name": "python3"
  },
  "language_info": {
   "codemirror_mode": {
    "name": "ipython",
    "version": 3
   },
   "file_extension": ".py",
   "mimetype": "text/x-python",
   "name": "python",
   "nbconvert_exporter": "python",
   "pygments_lexer": "ipython3",
   "version": "3.4.3"
  }
 },
 "nbformat": 4,
 "nbformat_minor": 2
}
