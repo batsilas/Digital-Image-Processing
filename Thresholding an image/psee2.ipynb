{
 "cells": [
  {
   "cell_type": "code",
   "execution_count": 1,
   "metadata": {},
   "outputs": [],
   "source": [
    "import numpy as np\n",
    "import matplotlib.image as mpimg\n",
    "import scipy.misc\n",
    "from PIL import Image\n",
    "A = np.array(Image.open('trikoupi6.png'))\n",
    "C = np.zeros(A.shape)\n",
    "nrows,ncols = A.shape\n",
    "B =[0,30,60,90,120,150,180,210,240]\n",
    "\n",
    "\n",
    "for k in range (0,9):\n",
    "    for i in range(0,nrows):\n",
    "        for j in range(0,ncols):\n",
    "            if(A[i][j]<=B[k]):\n",
    "                C[i][j] = 0\n",
    "            else:\n",
    "                C[i][j] = 255\n",
    "    scipy.misc.imsave('picK=%d.png'%(B[k]),C)\n",
    "    \n",
    "\n",
    "\n",
    "\n",
    "\n",
    "\n"
   ]
  },
  {
   "cell_type": "code",
   "execution_count": null,
   "metadata": {
    "collapsed": true
   },
   "outputs": [],
   "source": []
  }
 ],
 "metadata": {
  "kernelspec": {
   "display_name": "Python 3",
   "language": "python",
   "name": "python3"
  },
  "language_info": {
   "codemirror_mode": {
    "name": "ipython",
    "version": 3
   },
   "file_extension": ".py",
   "mimetype": "text/x-python",
   "name": "python",
   "nbconvert_exporter": "python",
   "pygments_lexer": "ipython3",
   "version": "3.4.3"
  }
 },
 "nbformat": 4,
 "nbformat_minor": 2
}
